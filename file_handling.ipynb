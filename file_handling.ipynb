{
  "nbformat": 4,
  "nbformat_minor": 0,
  "metadata": {
    "colab": {
      "provenance": []
    },
    "kernelspec": {
      "name": "python3",
      "display_name": "Python 3"
    },
    "language_info": {
      "name": "python"
    }
  },
  "cells": [
    {
      "cell_type": "code",
      "execution_count": null,
      "metadata": {
        "id": "1NI9GcufnMzH"
      },
      "outputs": [],
      "source": []
    },
    {
      "cell_type": "markdown",
      "source": [
        "THEORATICAL QUESTIONS"
      ],
      "metadata": {
        "id": "TxLGTuRlnUZR"
      }
    },
    {
      "cell_type": "markdown",
      "source": [
        "1.What is the difference between interpreted and compiled languages?\n",
        "->Compiled language translate the entire program into machine code beforehand, while interpreted language translate and execute code line by line.\n",
        "\n",
        "2. What is exception handling in Python?\n",
        "->Exception handling allows you to gracefully manage errors or unexpected situations that occur during program execution. you can achieve this by using try,except,else,finally.\n",
        "\n",
        "3.What is the purpose of the finally block in exception handling?\n",
        "->The purpose of finally block is that a specific block of code is executed regardless of exception is thrown or not within the try block.\n",
        "\n",
        "4. What is logging in Python?\n",
        "->Logging records the state and flow of your code.It is useful for understanding ,monitoring and debugging your code.\n",
        "\n",
        "5.What is the significance of the __del__ method in Python?\n",
        "->It is a powerful tool for managing resource cleanup when objects are destroyed.\n",
        "\n",
        "6.What is the difference between import and from ... import in Python?\n",
        "->You should use 'import' statement when you need to use many attributes from the module while you can use 'from import' statement when you have to use few attributes from a module.\n",
        "\n",
        "7.How can you handle multiple exceptions in Python?\n",
        "->You can handle multiple exception by using multiple except blocks or by catching multiple exception in a single except block using tuple.\n",
        "\n",
        "8.What is the purpose of the with statement when handling files in Python?\n",
        "->'With' statement is used for resource management. It ensures that file is properly closed after its suits finishes , even if a exception is raised.\n",
        "\n",
        "9.What is the difference between multithreading and multiprocessing?\n",
        "->Multithreading allows single program to execute multiple tasks concurrently within a single process while multiprocessing enables you to create multiple processes each with its own memory space.\n",
        "\n",
        "10.What are the advantages of using logging in a program?\n",
        "->It records the state and flow of program.\n",
        "->it helps for understanding ,monitoring and debugging code.\n",
        "->it shows how program behave overtime.\n",
        "\n",
        "11.What is memory management in Python?\n",
        "->It is a process of allocating and dealing with memory so that your program can run efficiently.\n",
        "\n",
        "12 What are the basic steps involved in exception handling in Python?\n",
        "->It involves using try,except,else and finally blocks.\n",
        "try:-code that might raise an exception\n",
        "except:-code to handle the exception\n",
        "else:-code to run if no exception occurs\n",
        "finally:-code to run regardless of wether exception occurs or not\n",
        "\n",
        "13.Why is memory management important in Python?\n",
        "->It ensures efficient allocation and deallocation of memory ,preventing memory leaks and improving overall performances especially for large scale applications.\n",
        "\n",
        "14.What is the role of try and except in exception handling?\n",
        "->try-code that might raise an exception\n",
        "->except-code to handle the exception\n",
        "\n",
        "15.How does Python's garbage collection system work?\n",
        "->The garbage collector automatically detects when an object is no longer needed and removes it.\n",
        "\n",
        "16.What is the purpose of the else block in exception handling?\n",
        "->else:-code to run if no exception occurs.\n",
        "\n",
        "17.What are the common logging levels in Python?\n",
        "->1.logging.info\n",
        "2.logging.warning\n",
        "3.logging.debug\n",
        "4.logging.error\n",
        "5.logging.critical\n",
        "\n",
        "18.What is the difference between os.fork() and multiprocessing in Python?\n",
        "->os.fork() creates copy of the process that has called it while  multiprocessing enables you to create multiple processes each with its own memory space.\n",
        "\n",
        "19. What is the importance of closing a file in Python?\n",
        "->Because files are limited resource managed by operating system ,making sure files are closed after use will protect against hard to debug issues like running out of file or corrupt data.\n",
        "\n",
        "20.What is the difference between file.read() and file.readline() in Python?\n",
        "->file.read()- reads the entire file content into a single line string\n",
        "->file.readline()-reads one line of the file at a time.\n",
        "\n",
        "21.What is the logging module in Python used for?\n",
        "->logging records the state and flow of your code.It is useful for understanding ,monitoring and debugging your code.\n",
        "\n",
        "22.What is the os module in Python used for in file handling?\n",
        "->It is used for interacting with the operating system like creating files and dictionaries ets.\n",
        "\n",
        "23.What are the challenges associated with memory management in Python?\n",
        "->Potential memory leaks due to circular references and the need for memory profiling tools to identify and address inefficiencies.\n",
        "\n",
        "24.How do you raise an exception manually in Python?\n",
        "->The raise keyword is used to raise an exception manually in python.\n",
        "\n",
        "25. Why is it important to use multithreading in certain applications?\n",
        "->Multithreading is crucial for certain applications as it enables parallel execution of tasks, leading to improved performance, responsiveness, and resource utilization, especially in I/O-bound or network-bound scenarios.\n"
      ],
      "metadata": {
        "id": "6c3ISJL2nYVO"
      }
    },
    {
      "cell_type": "markdown",
      "source": [
        "PRACTICAL QUESTIONS"
      ],
      "metadata": {
        "id": "D4a_MVjP1ZLG"
      }
    },
    {
      "cell_type": "code",
      "source": [],
      "metadata": {
        "id": "BFO2zBKY-RNI"
      },
      "execution_count": null,
      "outputs": []
    },
    {
      "cell_type": "code",
      "source": [
        "#1. How can you open a file for writing in Python and write a string to it?\n",
        "file = open(\"example.txt\", \"w\")\n",
        "file.write(\"Hello, World!\")\n",
        "file.close()\n"
      ],
      "metadata": {
        "id": "qDs4JpSh1dXx"
      },
      "execution_count": 4,
      "outputs": []
    },
    {
      "cell_type": "code",
      "source": [
        "#2.Write a Python program to read the contents of a file and print each line.\n",
        "with open('example.txt', 'r') as file:\n",
        "    for line in file:\n",
        "        print(line, end='')\n"
      ],
      "metadata": {
        "colab": {
          "base_uri": "https://localhost:8080/"
        },
        "id": "u2TGn5zS-ST0",
        "outputId": "13734676-9c97-49e9-bfca-0cc724ecd0b2"
      },
      "execution_count": 6,
      "outputs": [
        {
          "output_type": "stream",
          "name": "stdout",
          "text": [
            "Hello, World!"
          ]
        }
      ]
    },
    {
      "cell_type": "code",
      "source": [
        "#3.How would you handle a case where the file doesn't exist while trying to open it for reading?\n",
        "try:\n",
        "    with open('example.txt', 'r') as file:\n",
        "        for line in file:\n",
        "            print(line, end='')\n",
        "except FileNotFoundError:\n",
        "    print(\"The file does not exist.\")\n"
      ],
      "metadata": {
        "colab": {
          "base_uri": "https://localhost:8080/"
        },
        "id": "3pqASWay-15j",
        "outputId": "d194ab14-bccd-41b7-d946-5b5d4def8820"
      },
      "execution_count": 7,
      "outputs": [
        {
          "output_type": "stream",
          "name": "stdout",
          "text": [
            "Hello, World!"
          ]
        }
      ]
    },
    {
      "cell_type": "code",
      "source": [
        "#4.Write a Python script that reads from one file and writes its content to another file\n",
        "try:\n",
        "    with open('source.txt', 'r') as source_file:\n",
        "        with open('destination.txt', 'w') as destination_file:\n",
        "            content = source_file.read()\n",
        "            destination_file.write(content)\n",
        "    print(\"Content successfully copied from source.txt to destination.txt.\")\n",
        "except FileNotFoundError:\n",
        "    print(\"The source file does not exist.\")\n"
      ],
      "metadata": {
        "colab": {
          "base_uri": "https://localhost:8080/"
        },
        "id": "oGfo3y17_RoW",
        "outputId": "c119bd19-0ed5-46b4-ea60-0af546d61fef"
      },
      "execution_count": 8,
      "outputs": [
        {
          "output_type": "stream",
          "name": "stdout",
          "text": [
            "The source file does not exist.\n"
          ]
        }
      ]
    },
    {
      "cell_type": "code",
      "source": [
        "#5.How would you catch and handle division by zero error in Python?\n",
        "try:\n",
        "    numerator = 10\n",
        "    denominator = 0\n",
        "    result = numerator / denominator\n",
        "    print(\"Result:\", result)\n",
        "except ZeroDivisionError:\n",
        "    print(\"Error: Cannot divide by zero.\")\n"
      ],
      "metadata": {
        "colab": {
          "base_uri": "https://localhost:8080/"
        },
        "id": "yB194Nqv_kjO",
        "outputId": "731906b6-8644-4fbe-8dba-9c50b48bdc25"
      },
      "execution_count": 9,
      "outputs": [
        {
          "output_type": "stream",
          "name": "stdout",
          "text": [
            "Error: Cannot divide by zero.\n"
          ]
        }
      ]
    },
    {
      "cell_type": "code",
      "source": [
        "#6.Write a Python program that logs an error message to a log file when a division by zero exception occurs\n",
        "import logging\n",
        "logging.basicConfig(filename='error_log.txt', level=logging.ERROR,\n",
        "                    format='%(asctime)s - %(levelname)s - %(message)s')\n",
        "\n",
        "try:\n",
        "    numerator = 10\n",
        "    denominator = 0\n",
        "    result = numerator / denominator\n",
        "    print(\"Result:\", result)\n",
        "except ZeroDivisionError as e:\n",
        "    logging.error(\"Division by zero error: %s\", e)\n",
        "    print(\"An error occurred. Please check the log file for details.\")\n"
      ],
      "metadata": {
        "colab": {
          "base_uri": "https://localhost:8080/"
        },
        "id": "yZUslPk__yD2",
        "outputId": "94cc07c9-824d-49ed-c7f7-e29604409773"
      },
      "execution_count": 10,
      "outputs": [
        {
          "output_type": "stream",
          "name": "stderr",
          "text": [
            "ERROR:root:Division by zero error: division by zero\n"
          ]
        },
        {
          "output_type": "stream",
          "name": "stdout",
          "text": [
            "An error occurred. Please check the log file for details.\n"
          ]
        }
      ]
    },
    {
      "cell_type": "code",
      "source": [
        "#7. How do you log information at different levels (INFO, ERROR, WARNING) in Python using the logging module\n",
        "import logging\n",
        "logging.basicConfig(\n",
        "    filename='app.log',\n",
        "    level=logging.DEBUG,\n",
        "    format='%(asctime)s - %(levelname)s - %(message)s'\n",
        ")\n",
        "\n",
        "\n",
        "logging.debug(\"This is a debug message.\")\n",
        "logging.info(\"This is an info message.\")\n",
        "logging.warning(\"This is a warning message.\")\n",
        "logging.error(\"This is an error message.\")\n",
        "logging.critical(\"This is a critical message.\")\n"
      ],
      "metadata": {
        "colab": {
          "base_uri": "https://localhost:8080/"
        },
        "id": "iG_7ji25AEls",
        "outputId": "6e8297cd-327f-405e-bf12-8f2c55e46134"
      },
      "execution_count": 11,
      "outputs": [
        {
          "output_type": "stream",
          "name": "stderr",
          "text": [
            "WARNING:root:This is a warning message.\n",
            "ERROR:root:This is an error message.\n",
            "CRITICAL:root:This is a critical message.\n"
          ]
        }
      ]
    },
    {
      "cell_type": "code",
      "source": [
        "#8. Write a program to handle a file opening error using exception handling\n",
        "try:\n",
        "    file_name = 'non_existent_file.txt'\n",
        "    with open(file_name, 'r') as file:\n",
        "        content = file.read()\n",
        "        print(content)\n",
        "except FileNotFoundError as e:\n",
        "    print(f\"Error: The file '{file_name}' was not found.\")\n",
        "except IOError as e:\n",
        "    print(f\"Error: An I/O error occurred while trying to open the file '{file_name}'.\")\n",
        "except Exception as e:\n",
        "    print(f\"An unexpected error occurred: {e}\")\n"
      ],
      "metadata": {
        "colab": {
          "base_uri": "https://localhost:8080/"
        },
        "id": "dnnl9loRAf0d",
        "outputId": "9690cae7-63e9-4c2f-88fb-ddf7727b7294"
      },
      "execution_count": 12,
      "outputs": [
        {
          "output_type": "stream",
          "name": "stdout",
          "text": [
            "Error: The file 'non_existent_file.txt' was not found.\n"
          ]
        }
      ]
    },
    {
      "cell_type": "code",
      "source": [
        "#9.How can you read a file line by line and store its content in a list in Python\n",
        "try:\n",
        "    with open('example.txt', 'r') as file:\n",
        "        lines = file.readlines()\n",
        "    print(lines)\n",
        "except FileNotFoundError:\n",
        "    print(\"The file does not exist.\")\n"
      ],
      "metadata": {
        "colab": {
          "base_uri": "https://localhost:8080/"
        },
        "id": "ByGAVWRoAxuG",
        "outputId": "6686022d-b69d-4638-a1e7-a7d4896c8f0d"
      },
      "execution_count": 13,
      "outputs": [
        {
          "output_type": "stream",
          "name": "stdout",
          "text": [
            "['Hello, World!']\n"
          ]
        }
      ]
    },
    {
      "cell_type": "code",
      "source": [
        "#10. How can you append data to an existing file in Python?\n",
        "data = \"This is a new line of text.\\n\"\n",
        "with open('example.txt', 'a') as file:\n",
        "    file.write(data)\n",
        "\n",
        "print(\"Data has been appended to the file.\")\n"
      ],
      "metadata": {
        "colab": {
          "base_uri": "https://localhost:8080/"
        },
        "id": "5JRe4H0zA_3G",
        "outputId": "29b5e5ba-18b8-4ee7-9b65-78ae2ef2feca"
      },
      "execution_count": 14,
      "outputs": [
        {
          "output_type": "stream",
          "name": "stdout",
          "text": [
            "Data has been appended to the file.\n"
          ]
        }
      ]
    },
    {
      "cell_type": "code",
      "source": [
        "#11.Write a Python program that uses a try-except block to handle an error when attempting to access a dictionary key that doesn't exist\n",
        "my_dict = {'name': 'Alice', 'age': 25}\n",
        "\n",
        "try:\n",
        "    value = my_dict['address']\n",
        "    print(f\"The value is: {value}\")\n",
        "except KeyError as e:\n",
        "    print(f\"Error: The key '{e}' does not exist in the dictionary.\")\n"
      ],
      "metadata": {
        "colab": {
          "base_uri": "https://localhost:8080/"
        },
        "id": "bzIc5Et-BPUG",
        "outputId": "795c9351-61b3-4754-bbaa-305effef4c74"
      },
      "execution_count": 15,
      "outputs": [
        {
          "output_type": "stream",
          "name": "stdout",
          "text": [
            "Error: The key ''address'' does not exist in the dictionary.\n"
          ]
        }
      ]
    },
    {
      "cell_type": "code",
      "source": [
        "#12. Write a program that demonstrates using multiple except blocks to handle different types of exceptions\n",
        "try:\n",
        "    num1 = int(input(\"Enter a number: \"))\n",
        "    num2 = int(input(\"Enter another number: \"))\n",
        "    result = num1 / num2\n",
        "    print(f\"The result of {num1} divided by {num2} is {result}\")\n",
        "\n",
        "except ValueError:\n",
        "    print(\"Error: Please enter a valid integer.\")\n",
        "\n",
        "except ZeroDivisionError:\n",
        "    print(\"Error: Division by zero is not allowed.\")\n",
        "\n",
        "except Exception as e:\n",
        "    print(f\"An unexpected error occurred: {e}\")\n"
      ],
      "metadata": {
        "colab": {
          "base_uri": "https://localhost:8080/"
        },
        "id": "a-JVUAtuBr3O",
        "outputId": "c3d36a1b-37f0-4901-9c46-496faa87ebf1"
      },
      "execution_count": 16,
      "outputs": [
        {
          "output_type": "stream",
          "name": "stdout",
          "text": [
            "Enter a number: 21\n",
            "Enter another number: 3\n",
            "The result of 21 divided by 3 is 7.0\n"
          ]
        }
      ]
    },
    {
      "cell_type": "code",
      "source": [
        "#13.How would you check if a file exists before attempting to read it in Python\n",
        "import os\n",
        "\n",
        "file_name = 'example.txt'\n",
        "\n",
        "if os.path.exists(file_name):\n",
        "    with open(file_name, 'r') as file:\n",
        "        content = file.read()\n",
        "        print(content)\n",
        "else:\n",
        "    print(f\"The file '{file_name}' does not exist.\")\n"
      ],
      "metadata": {
        "colab": {
          "base_uri": "https://localhost:8080/"
        },
        "id": "pAYuggwOB_xh",
        "outputId": "4bd58720-672e-42c3-d526-3ce265967bae"
      },
      "execution_count": 17,
      "outputs": [
        {
          "output_type": "stream",
          "name": "stdout",
          "text": [
            "Hello, World!This is a new line of text.\n",
            "\n"
          ]
        }
      ]
    },
    {
      "cell_type": "code",
      "source": [
        "#14.Write a program that uses the logging module to log both informational and error message\n",
        "import logging\n",
        "logging.basicConfig(\n",
        "    filename='app.log',\n",
        "    level=logging.DEBUG,\n",
        "    format='%(asctime)s - %(levelname)s - %(message)s'\n",
        ")\n",
        "logging.info(\"This is an informational message.\")\n",
        "\n",
        "try:\n",
        "    x = 5 / 0\n",
        "except ZeroDivisionError as e:\n",
        "    logging.error(\"Error occurred: Division by zero.\")\n",
        "\n"
      ],
      "metadata": {
        "colab": {
          "base_uri": "https://localhost:8080/"
        },
        "id": "Cw5yIZS8CLnQ",
        "outputId": "0e66f6d7-0528-4779-d64c-097b2b41ebe4"
      },
      "execution_count": 21,
      "outputs": [
        {
          "output_type": "stream",
          "name": "stderr",
          "text": [
            "ERROR:root:Error occurred: Division by zero.\n"
          ]
        }
      ]
    },
    {
      "cell_type": "code",
      "source": [
        "#15. Write a Python program that prints the content of a file and handles the case when the file is empty\n",
        "try:\n",
        "    with open('example.txt', 'r') as file:\n",
        "        content = file.read()\n",
        "        if not content:\n",
        "            print(\"The file is empty.\")\n",
        "        else:\n",
        "            print(\"File content:\")\n",
        "            print(content)\n",
        "except FileNotFoundError:\n",
        "    print(\"Error: The file does not exist.\")\n",
        "except Exception as e:\n",
        "    print(f\"An unexpected error occurred: {e}\")\n"
      ],
      "metadata": {
        "colab": {
          "base_uri": "https://localhost:8080/"
        },
        "id": "YiVAHu8eDLj6",
        "outputId": "d9325e5a-0205-4d41-c437-f832de62c4be"
      },
      "execution_count": 22,
      "outputs": [
        {
          "output_type": "stream",
          "name": "stdout",
          "text": [
            "File content:\n",
            "Hello, World!This is a new line of text.\n",
            "\n"
          ]
        }
      ]
    },
    {
      "cell_type": "code",
      "source": [
        "#17.Write a Python program to create and write a list of numbers to a file, one number per line\n",
        "numbers = [1, 2, 3, 4, 5, 6, 7, 8, 9, 10]\n",
        "with open('numbers.txt', 'w') as file:\n",
        "    for number in numbers:\n",
        "        file.write(f\"{number}\\n\")\n",
        "\n",
        "print(\"Numbers have been written to the file 'numbers.txt'.\")\n",
        "\n"
      ],
      "metadata": {
        "colab": {
          "base_uri": "https://localhost:8080/"
        },
        "id": "FkxFZ6cbDbDa",
        "outputId": "4240d638-b20c-4caa-e74c-66e0d46dc207"
      },
      "execution_count": 27,
      "outputs": [
        {
          "output_type": "stream",
          "name": "stdout",
          "text": [
            "Numbers have been written to the file 'numbers.txt'.\n"
          ]
        }
      ]
    },
    {
      "cell_type": "code",
      "source": [
        "#18.How would you implement a basic logging setup that logs to a file with rotation after 1MB\n",
        "import logging\n",
        "from logging.handlers import RotatingFileHandler\n",
        "logger = logging.getLogger('my_logger')\n",
        "logger.setLevel(logging.DEBUG)\n",
        "log_file = 'app.log'\n",
        "max_log_size = 1 * 1024 * 1024\n",
        "backup_count = 3\n",
        "handler = RotatingFileHandler(log_file, maxBytes=max_log_size, backupCount=backup_count)\n",
        "handler.setLevel(logging.DEBUG)\n",
        "formatter = logging.Formatter('%(asctime)s - %(levelname)s - %(message)s')\n",
        "handler.setFormatter(formatter)\n",
        "logger.addHandler(handler)\n",
        "logger.debug(\"This is a debug message.\")\n",
        "logger.info(\"This is an info message.\")\n",
        "logger.warning(\"This is a warning message.\")\n",
        "logger.error(\"This is an error message.\")\n",
        "logger.critical(\"This is a critical message.\")\n"
      ],
      "metadata": {
        "colab": {
          "base_uri": "https://localhost:8080/"
        },
        "id": "rYLPak3MD68V",
        "outputId": "c1159438-73cb-418c-815b-58ddc066a459"
      },
      "execution_count": 28,
      "outputs": [
        {
          "output_type": "stream",
          "name": "stderr",
          "text": [
            "DEBUG:my_logger:This is a debug message.\n",
            "INFO:my_logger:This is an info message.\n",
            "WARNING:my_logger:This is a warning message.\n",
            "ERROR:my_logger:This is an error message.\n",
            "CRITICAL:my_logger:This is a critical message.\n"
          ]
        }
      ]
    },
    {
      "cell_type": "code",
      "source": [
        " #19.Write a program that handles both IndexError and KeyError using a try-except block\n",
        " def access_list_and_dict():\n",
        "    my_list = [1, 2, 3, 4]\n",
        "    my_dict = {'a': 10, 'b': 20, 'c': 30}\n",
        "\n",
        "    try:\n",
        "        print(my_list[5])\n",
        "        print(my_dict['d'])\n",
        "\n",
        "    except IndexError:\n",
        "        print(\"Error: List index out of range.\")\n",
        "\n",
        "    except KeyError:\n",
        "        print(\"Error: Key not found in the dictionary.\")\n",
        "\n",
        "if __name__ == \"__main__\":\n",
        "    access_list_and_dict()\n"
      ],
      "metadata": {
        "colab": {
          "base_uri": "https://localhost:8080/"
        },
        "id": "LlSHsRZ6E6JQ",
        "outputId": "e3a273de-80bb-4b80-8972-6da25ec66e63"
      },
      "execution_count": 29,
      "outputs": [
        {
          "output_type": "stream",
          "name": "stdout",
          "text": [
            "Error: List index out of range.\n"
          ]
        }
      ]
    },
    {
      "cell_type": "code",
      "source": [
        "#20.How would you open a file and read its contents using a context manager in Python\n",
        "file_name = 'example.txt'\n",
        "with open(file_name, 'r') as file:\n",
        "    content = file.read()\n",
        "    print(content)\n"
      ],
      "metadata": {
        "colab": {
          "base_uri": "https://localhost:8080/"
        },
        "id": "C1phTmJsFTWx",
        "outputId": "5e2d681d-a209-4ce7-9f46-f63c5f6e7e63"
      },
      "execution_count": 31,
      "outputs": [
        {
          "output_type": "stream",
          "name": "stdout",
          "text": [
            "Hello, World!This is a new line of text.\n",
            "\n"
          ]
        }
      ]
    },
    {
      "cell_type": "code",
      "source": [
        "#21.Write a Python program that reads a file and prints the number of occurrences of a specific word\n",
        "def count_word_occurrences(file_name, target_word):\n",
        "    try:\n",
        "        with open(file_name, 'r') as file:\n",
        "            content = file.read()\n",
        "            word_count = content.lower().split().count(target_word.lower())\n",
        "\n",
        "            return word_count\n",
        "    except FileNotFoundError:\n",
        "        print(f\"Error: The file '{file_name}' was not found.\")\n",
        "        return 0\n",
        "\n",
        "if __name__ == \"__main__\":\n",
        "    file_name = 'example.txt'\n",
        "    target_word = 'python'\n",
        "    count = count_word_occurrences(file_name, target_word)\n",
        "    print(f\"The word '{target_word}' appears {count} times in the file '{file_name}'.\")\n",
        "\n"
      ],
      "metadata": {
        "colab": {
          "base_uri": "https://localhost:8080/"
        },
        "id": "hVR2Uq23Fr3m",
        "outputId": "5f419ced-0a0c-4e12-e24a-7a4a044e2eb9"
      },
      "execution_count": 34,
      "outputs": [
        {
          "output_type": "stream",
          "name": "stdout",
          "text": [
            "The word 'python' appears 0 times in the file 'example.txt'.\n"
          ]
        }
      ]
    },
    {
      "cell_type": "code",
      "source": [
        "#22.How can you check if a file is empty before attempting to read its contents\n",
        "import os\n",
        "\n",
        "def is_file_empty(file_name):\n",
        "    return os.stat(file_name).st_size == 0\n",
        "\n",
        "def read_file_if_not_empty(file_name):\n",
        "    try:\n",
        "        if is_file_empty(file_name):\n",
        "            print(\"The file is empty.\")\n",
        "        else:\n",
        "            with open(file_name, 'r') as file:\n",
        "                content = file.read()\n",
        "                print(content)\n",
        "    except FileNotFoundError:\n",
        "        print(f\"Error: The file '{file_name}' was not found.\")\n",
        "\n",
        "if __name__ == \"__main__\":\n",
        "    file_name = 'example.txt'\n",
        "    read_file_if_not_empty(file_name)\n"
      ],
      "metadata": {
        "colab": {
          "base_uri": "https://localhost:8080/"
        },
        "id": "tsvAtf2lGc6j",
        "outputId": "9e29c011-5314-446e-b359-4f27acb6c03f"
      },
      "execution_count": 36,
      "outputs": [
        {
          "output_type": "stream",
          "name": "stdout",
          "text": [
            "Hello, World!This is a new line of text.\n",
            "\n"
          ]
        }
      ]
    },
    {
      "cell_type": "code",
      "source": [
        "#23.Write a Python program that writes to a log file when an error occurs during file handling\n",
        "import logging\n",
        "\n",
        "# Configure logging to log errors to a log file\n",
        "logging.basicConfig(\n",
        "    filename='file_handling.log',  # Log file name\n",
        "    level=logging.ERROR,           # Log level to capture errors and above\n",
        "    format='%(asctime)s - %(levelname)s - %(message)s'\n",
        ")\n",
        "\n",
        "def read_file(file_name):\n",
        "    try:\n",
        "        # Try to open the file for reading\n",
        "        with open(file_name, 'r') as file:\n",
        "            content = file.read()\n",
        "            print(content)\n",
        "    except FileNotFoundError:\n",
        "        # Log the error if the file is not found\n",
        "        logging.error(f\"File '{file_name}' not found.\")\n",
        "        print(f\"Error: The file '{file_name}' was not found.\")\n",
        "    except PermissionError:\n",
        "        # Log the error if there are permission issues\n",
        "        logging.error(f\"Permission denied while trying to open '{file_name}'.\")\n",
        "        print(f\"Error: Permission denied while trying to open '{file_name}'.\")\n",
        "    except Exception as e:\n",
        "        # Log any other unexpected errors\n",
        "        logging.error(f\"An unexpected error occurred: {str(e)}\")\n",
        "        print(f\"An unexpected error occurred: {str(e)}\")\n",
        "\n",
        "def write_to_file(file_name, data):\n",
        "    try:\n",
        "        with open(file_name, 'w') as file:\n",
        "            file.write(data)\n",
        "            print(f\"Data successfully written to '{file_name}'.\")\n",
        "    except PermissionError:\n",
        "        logging.error(f\"Permission denied while trying to write to '{file_name}'.\")\n",
        "        print(f\"Error: Permission denied while trying to write to '{file_name}'.\")\n",
        "    except Exception as e:\n",
        "        logging.error(f\"An unexpected error occurred while writing to '{file_name}': {str(e)}\")\n",
        "        print(f\"An unexpected error occurred: {str(e)}\")\n",
        "\n",
        "if __name__ == \"__main__\":\n",
        "    read_file('non_existent_file.txt')\n",
        "    write_to_file('example.txt', 'This is a test message.')\n"
      ],
      "metadata": {
        "colab": {
          "base_uri": "https://localhost:8080/"
        },
        "id": "2EQ2kwGHGitR",
        "outputId": "2793568b-e2df-4324-f0e7-6daf6e56df51"
      },
      "execution_count": 37,
      "outputs": [
        {
          "output_type": "stream",
          "name": "stderr",
          "text": [
            "ERROR:root:File 'non_existent_file.txt' not found.\n"
          ]
        },
        {
          "output_type": "stream",
          "name": "stdout",
          "text": [
            "Error: The file 'non_existent_file.txt' was not found.\n",
            "Data successfully written to 'example.txt'.\n"
          ]
        }
      ]
    },
    {
      "cell_type": "markdown",
      "source": [],
      "metadata": {
        "id": "0r55DlTVHLCQ"
      }
    }
  ]
}